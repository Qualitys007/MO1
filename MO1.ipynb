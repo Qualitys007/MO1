{
 "cells": [
  {
   "cell_type": "code",
   "execution_count": null,
   "metadata": {},
   "outputs": [],
   "source": [
    "# 3.1 How many seconds are in an hour?\n",
    "seconds_in_minute = 60\n",
    "minutes_in_hour = 60\n",
    "seconds_in_hour = seconds_in_minute * minutes_in_hour\n",
    "print(f\"3.1 Seconds in an hour: {seconds_in_hour}\")  # Output: 3600\n",
    "\n",
    "# 3.2 Assign the result to a variable called seconds_per_hour\n",
    "seconds_per_hour = seconds_in_hour\n",
    "print(f\"3.2 seconds_per_hour: {seconds_per_hour}\")  # Output: 3600\n",
    "\n",
    "# 3.3 How many seconds are in a day?\n",
    "hours_in_day = 24\n",
    "seconds_in_day = seconds_per_hour * hours_in_day\n",
    "print(f\"3.3 Seconds in a day: {seconds_in_day}\")  # Output: 86400\n",
    "\n",
    "# 3.4 Save the result in a variable called seconds_per_day\n",
    "seconds_per_day = seconds_in_day\n",
    "print(f\"3.4 seconds_per_day: {seconds_per_day}\")  # Output: 86400\n",
    "\n",
    "# 3.5 Floating-point division of seconds_per_day by seconds_per_hour\n",
    "floating_point_result = seconds_per_day / seconds_per_hour\n",
    "print(f\"3.5 Floating-point division: {floating_point_result}\")  # Output: 24.0\n",
    "\n",
    "# 3.6 Integer division of seconds_per_day by seconds_per_hour\n",
    "integer_division_result = seconds_per_day // seconds_per_hour\n",
    "print(f\"3.6 Integer division: {integer_division_result}\")  # Output: 24\n",
    "\n",
    "# The integer result is the same as the floating-point result (24), except without the .0\n"
   ]
  }
 ],
 "metadata": {
  "language_info": {
   "name": "python"
  }
 },
 "nbformat": 4,
 "nbformat_minor": 2
}
